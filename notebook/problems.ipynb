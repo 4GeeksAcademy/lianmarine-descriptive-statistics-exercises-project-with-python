{
    "cells": [
        {
            "cell_type": "markdown",
            "id": "ac622319",
            "metadata": {},
            "source": [
                "# Descriptive statistics problems"
            ]
        },
        {
            "cell_type": "markdown",
            "id": "aa8993e4",
            "metadata": {},
            "source": [
                "### Exercise 1"
            ]
        },
        {
            "cell_type": "markdown",
            "id": "5e0ab0d5",
            "metadata": {},
            "source": [
                "We will use Numpy to obtain information to describe statistically.\n",
                "\n",
                "- Generate an array of 100 elements following a normal distribution.\n",
                "- Generate an array of 100 elements following a chi-square distribution with 3 degrees of freedom.\n",
                "- Calculate the main metrics and statistical measures that best describe the two vectors."
            ]
        },
        {
            "cell_type": "code",
            "execution_count": 1,
            "id": "34720ab6",
            "metadata": {},
            "outputs": [],
            "source": [
                "# TODO\n",
                "import statistics as stats\n",
                "import numpy as np\n",
                "from scipy.stats import skew\n",
                "from scipy.stats import kurtosis\n",
                "\n",
                "\n",
                "#Normal distribution of values\n",
                "\n",
                "normal_arr = np.random.normal(size=100)\n",
                "mean_normal_arr = np.mean(normal_arr)\n",
                "std_normal_arr = np.std(normal_arr)\n",
                "median_normal_arr = stats.median(normal_arr)\n",
                "range_normal_arr = np.max(normal_arr) - np.min(normal_arr)\n",
                "mode_normal_arr = stats.mode(normal_arr)\n",
                "skewness_normal_arr = skew(normal_arr)\n",
                "kurtosis_normal_arr = kurtosis(normal_arr)\n",
                "\n",
                "print(f\"Normally distributed array:\")\n",
                "print(f\"Mean: {mean_normal_arr}, Standard deviation: {std_normal_arr}, Median: {median_normal_arr}, Range: {range_normal_arr}, Mode: {mode_normal_arr}, Skewness: {skewness_normal_arr}, Kurtosis:{kurtosis_normal_arr}\")\n",
                "\n",
                "#Chisquare distribution with three degrees of freedom\n",
                "\n",
                "chisquare_arr = np.random.chisquare(df = 3, size= 100)\n",
                "mean_chisquare_arr = np.mean(chisquare_arr)\n",
                "std_chisquare_arr = np.std(chisquare_arr)\n",
                "median_chisquare_arr = stats.median(chisquare_arr)\n",
                "range_chisquare_arr = np.max(chisquare_arr) - np.min(chisquare_arr)\n",
                "mode_chisquare_arr = stats.mode(chisquare_arr)\n",
                "skewness_chisquare_arr = skew(chisquare_arr)\n",
                "kurtosis_chisquare_arr = kurtosis(chisquare_arr)\n",
                "\n",
                "print(f\" Chisquare distributed array with three degrees of freedom:\")\n",
                "print(f\" Mean: {mean_chisquare_arr}, Standard deviation: {std_chisquare_arr}, Median: {median_chisquare_arr}, Range: {range_chisquare_arr}, Mode: {mode_chisquare_arr}, Skewness: {skewness_chisquare_arr}, Kurtosis:{kurtosis_chisquare_arr}\")"
            ]
        },
        {
            "cell_type": "markdown",
            "id": "46c70c3d",
            "metadata": {},
            "source": [
                "### Exercise 2\n",
                "\n",
                "Write a Python program to calculate the standard deviation of the following data:\n",
                "\n",
                "```py\n",
                "data = [4, 2, 5, 8, 6]\n",
                "```"
            ]
        },
        {
            "cell_type": "code",
            "execution_count": 2,
            "id": "d590308e",
            "metadata": {},
            "outputs": [],
            "source": [
                "# TODO\n",
                "\n",
                "import math\n",
                "\n",
                "data = [4,2,5,8,6]\n",
                "\n",
                "def std(set):\n",
                "    sumatorium_mean = 0\n",
                "    for i in set:\n",
                "        sumatorium_mean += i\n",
                "    mean = sumatorium_mean/ len(set)\n",
                "\n",
                "    sumatorium_std = 0\n",
                "    for i in set:\n",
                "        sumatorium_std += (i-mean)*(i-mean)\n",
                "    std = math.sqrt(sumatorium_std/len(set))\n",
                "\n",
                "    print(f\"The mean is {mean}\")\n",
                "    print(f\"The standard deviation is {std}\")\n",
                "\n",
                "std(data)\n",
                "\n"
            ]
        }
    ],
    "metadata": {
        "interpreter": {
            "hash": "9248718ffe6ce6938b217e69dbcc175ea21f4c6b28a317e96c05334edae734bb"
        },
        "kernelspec": {
            "display_name": "Python 3.9.12 ('ML-BOOTCAMP')",
            "language": "python",
            "name": "python3"
        },
        "language_info": {
            "codemirror_mode": {
                "name": "ipython",
                "version": 3
            },
            "file_extension": ".py",
            "mimetype": "text/x-python",
            "name": "python",
            "nbconvert_exporter": "python",
            "pygments_lexer": "ipython3",
            "version": "3.11.4"
        }
    },
    "nbformat": 4,
    "nbformat_minor": 5
}
